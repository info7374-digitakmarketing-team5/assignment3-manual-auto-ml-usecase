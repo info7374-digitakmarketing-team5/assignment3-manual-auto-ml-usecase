{
 "cells": [
  {
   "cell_type": "code",
   "execution_count": 1,
   "metadata": {},
   "outputs": [
    {
     "name": "stdout",
     "output_type": "stream",
     "text": [
      "b'{\"Results\":{\"output1\":[{\"Column 0\":\"1\",\"V1\":\"1\",\"V2\":\"1\",\"V3\":\"1\",\"V4\":\"1\",\"V5\":\"1\",\"V6\":\"1\",\"V7\":\"1\",\"Response\":\"1\",\"Scored Labels\":\"0\",\"Scored Probabilities\":\"5.31359312105906E-09\"}]}}'\n"
     ]
    }
   ],
   "source": [
    "import urllib.request\n",
    "import json\n",
    "\n",
    "data = {\n",
    "        \"Inputs\": {\n",
    "                \"input1\":\n",
    "                [\n",
    "                    {\n",
    "                            'Column 0': \"1\",   \n",
    "                            'V1': \"1\",   \n",
    "                            'V2': \"1\",   \n",
    "                            'V3': \"1\",   \n",
    "                            'V4': \"1\",   \n",
    "                            'V5': \"1\",   \n",
    "                            'V6': \"1\",   \n",
    "                            'V7': \"1\",   \n",
    "                            'Response': \"1\",   \n",
    "                    }\n",
    "                ],\n",
    "        },\n",
    "    \"GlobalParameters\":  {\n",
    "    }\n",
    "}\n",
    "\n",
    "body = str.encode(json.dumps(data))\n",
    "\n",
    "url = 'https://ussouthcentral.services.azureml.net/workspaces/b23d5853294f451c87bd59bd6e7e26f8/services/34912c717ede4dc7948a0957f2f8c1e5/execute?api-version=2.0&format=swagger'\n",
    "api_key = 'abc' # Replace this with the API key for the web service\n",
    "headers = {'Content-Type':'application/json', 'Authorization':('Bearer '+ api_key)}\n",
    "\n",
    "req = urllib.request.Request(url, body, headers)\n",
    "\n",
    "try:\n",
    "    response = urllib.request.urlopen(req)\n",
    "\n",
    "    result = response.read()\n",
    "    print(result)\n",
    "except urllib.error.HTTPError as error:\n",
    "    print(\"The request failed with status code: \" + str(error.code))\n",
    "\n",
    "    # Print the headers - they include the requert ID and the timestamp, which are useful for debugging the failure\n",
    "    print(error.info())\n",
    "    print(json.loads(error.read().decode(\"utf8\", 'ignore')))"
   ]
  },
  {
   "cell_type": "code",
   "execution_count": null,
   "metadata": {},
   "outputs": [],
   "source": []
  }
 ],
 "metadata": {
  "kernelspec": {
   "display_name": "Python 3",
   "language": "python",
   "name": "python3"
  },
  "language_info": {
   "codemirror_mode": {
    "name": "ipython",
    "version": 3
   },
   "file_extension": ".py",
   "mimetype": "text/x-python",
   "name": "python",
   "nbconvert_exporter": "python",
   "pygments_lexer": "ipython3",
   "version": "3.7.3"
  }
 },
 "nbformat": 4,
 "nbformat_minor": 2
}
