{
 "cells": [
  {
   "cell_type": "markdown",
   "metadata": {
    "colab_type": "text",
    "id": "Pel5UhkwPh6b"
   },
   "source": [
    "An advertising promotion tested to see if it would bring more customers to purchase a specific product priced at $10. Since it costs the company 0.15 to send out each promotion, it would be best to limit that promotion only to those that are most receptive to the promotion. Each data point includes one column indicating whether or not an individual was sent a promotion for the product, and one column indicating whether or not that individual eventually purchased that product. Each individual also has seven additional features associated with them, which are provided abstractly as V1-V7."
   ]
  },
  {
   "cell_type": "code",
   "execution_count": 1,
   "metadata": {
    "colab": {},
    "colab_type": "code",
    "id": "kCub8CFOPh6b",
    "scrolled": true
   },
   "outputs": [],
   "source": [
    "import numpy as np\n",
    "import pandas as pd\n",
    "import scipy as sp\n",
    "import sklearn as sk\n",
    "from sklearn.neighbors import KNeighborsClassifier \n",
    "from statsmodels.stats.power import NormalIndPower\n",
    "from statsmodels.stats.proportion import proportion_effectsize\n",
    "\n",
    "from itertools import combinations\n",
    "\n",
    "import matplotlib.pyplot as plt\n",
    "import seaborn as sb\n",
    "%matplotlib inline"
   ]
  },
  {
   "cell_type": "code",
   "execution_count": 2,
   "metadata": {
    "colab": {
     "base_uri": "https://localhost:8080/",
     "height": 204
    },
    "colab_type": "code",
    "id": "zr_WYpgrPh6d",
    "outputId": "2eec427b-b090-4d25-ec8c-4ca18e247708"
   },
   "outputs": [
    {
     "data": {
      "text/html": [
       "<div>\n",
       "<style scoped>\n",
       "    .dataframe tbody tr th:only-of-type {\n",
       "        vertical-align: middle;\n",
       "    }\n",
       "\n",
       "    .dataframe tbody tr th {\n",
       "        vertical-align: top;\n",
       "    }\n",
       "\n",
       "    .dataframe thead th {\n",
       "        text-align: right;\n",
       "    }\n",
       "</style>\n",
       "<table border=\"1\" class=\"dataframe\">\n",
       "  <thead>\n",
       "    <tr style=\"text-align: right;\">\n",
       "      <th></th>\n",
       "      <th>ID</th>\n",
       "      <th>Promotion</th>\n",
       "      <th>purchase</th>\n",
       "      <th>V1</th>\n",
       "      <th>V2</th>\n",
       "      <th>V3</th>\n",
       "      <th>V4</th>\n",
       "      <th>V5</th>\n",
       "      <th>V6</th>\n",
       "      <th>V7</th>\n",
       "    </tr>\n",
       "  </thead>\n",
       "  <tbody>\n",
       "    <tr>\n",
       "      <th>0</th>\n",
       "      <td>1</td>\n",
       "      <td>No</td>\n",
       "      <td>0</td>\n",
       "      <td>2</td>\n",
       "      <td>30.443518</td>\n",
       "      <td>-1.165083</td>\n",
       "      <td>1</td>\n",
       "      <td>1</td>\n",
       "      <td>3</td>\n",
       "      <td>2</td>\n",
       "    </tr>\n",
       "    <tr>\n",
       "      <th>1</th>\n",
       "      <td>3</td>\n",
       "      <td>No</td>\n",
       "      <td>0</td>\n",
       "      <td>3</td>\n",
       "      <td>32.159350</td>\n",
       "      <td>-0.645617</td>\n",
       "      <td>2</td>\n",
       "      <td>3</td>\n",
       "      <td>2</td>\n",
       "      <td>2</td>\n",
       "    </tr>\n",
       "    <tr>\n",
       "      <th>2</th>\n",
       "      <td>4</td>\n",
       "      <td>No</td>\n",
       "      <td>0</td>\n",
       "      <td>2</td>\n",
       "      <td>30.431659</td>\n",
       "      <td>0.133583</td>\n",
       "      <td>1</td>\n",
       "      <td>1</td>\n",
       "      <td>4</td>\n",
       "      <td>2</td>\n",
       "    </tr>\n",
       "    <tr>\n",
       "      <th>3</th>\n",
       "      <td>5</td>\n",
       "      <td>No</td>\n",
       "      <td>0</td>\n",
       "      <td>0</td>\n",
       "      <td>26.588914</td>\n",
       "      <td>-0.212728</td>\n",
       "      <td>2</td>\n",
       "      <td>1</td>\n",
       "      <td>4</td>\n",
       "      <td>2</td>\n",
       "    </tr>\n",
       "    <tr>\n",
       "      <th>4</th>\n",
       "      <td>8</td>\n",
       "      <td>Yes</td>\n",
       "      <td>0</td>\n",
       "      <td>3</td>\n",
       "      <td>28.044332</td>\n",
       "      <td>-0.385883</td>\n",
       "      <td>1</td>\n",
       "      <td>1</td>\n",
       "      <td>2</td>\n",
       "      <td>2</td>\n",
       "    </tr>\n",
       "  </tbody>\n",
       "</table>\n",
       "</div>"
      ],
      "text/plain": [
       "   ID Promotion  purchase  V1         V2        V3  V4  V5  V6  V7\n",
       "0   1        No         0   2  30.443518 -1.165083   1   1   3   2\n",
       "1   3        No         0   3  32.159350 -0.645617   2   3   2   2\n",
       "2   4        No         0   2  30.431659  0.133583   1   1   4   2\n",
       "3   5        No         0   0  26.588914 -0.212728   2   1   4   2\n",
       "4   8       Yes         0   3  28.044332 -0.385883   1   1   2   2"
      ]
     },
     "execution_count": 2,
     "metadata": {},
     "output_type": "execute_result"
    }
   ],
   "source": [
    "# load in the data\n",
    "train_data = pd.read_csv('../data/training.csv')\n",
    "train_data.head()"
   ]
  },
  {
   "cell_type": "code",
   "execution_count": 73,
   "metadata": {
    "colab": {
     "base_uri": "https://localhost:8080/",
     "height": 204
    },
    "colab_type": "code",
    "id": "e6NDOGv_Ph6f",
    "outputId": "9209bae6-df73-45fc-9d6c-2ddebd4884fe"
   },
   "outputs": [
    {
     "data": {
      "text/plain": [
       "ID           0.0\n",
       "Promotion    0.0\n",
       "purchase     0.0\n",
       "V1           0.0\n",
       "V2           0.0\n",
       "V3           0.0\n",
       "V4           0.0\n",
       "V5           0.0\n",
       "V6           0.0\n",
       "V7           0.0\n",
       "dtype: float64"
      ]
     },
     "execution_count": 73,
     "metadata": {
      "tags": []
     },
     "output_type": "execute_result"
    }
   ],
   "source": [
    "# check number of missing values per column\n",
    "train_data.isnull().mean()"
   ]
  },
  {
   "cell_type": "code",
   "execution_count": 74,
   "metadata": {
    "colab": {
     "base_uri": "https://localhost:8080/",
     "height": 266
    },
    "colab_type": "code",
    "id": "IP_w_xqePh6h",
    "outputId": "8e17238d-bbb3-4a33-9dbc-9f99a888ddb1"
   },
   "outputs": [
    {
     "data": {
      "text/html": [
       "<div>\n",
       "<style scoped>\n",
       "    .dataframe tbody tr th:only-of-type {\n",
       "        vertical-align: middle;\n",
       "    }\n",
       "\n",
       "    .dataframe tbody tr th {\n",
       "        vertical-align: top;\n",
       "    }\n",
       "\n",
       "    .dataframe thead th {\n",
       "        text-align: right;\n",
       "    }\n",
       "</style>\n",
       "<table border=\"1\" class=\"dataframe\">\n",
       "  <thead>\n",
       "    <tr style=\"text-align: right;\">\n",
       "      <th></th>\n",
       "      <th>ID</th>\n",
       "      <th>Promotion</th>\n",
       "      <th>purchase</th>\n",
       "      <th>V1</th>\n",
       "      <th>V2</th>\n",
       "      <th>V3</th>\n",
       "      <th>V4</th>\n",
       "      <th>V5</th>\n",
       "      <th>V6</th>\n",
       "      <th>V7</th>\n",
       "    </tr>\n",
       "  </thead>\n",
       "  <tbody>\n",
       "    <tr>\n",
       "      <th>0</th>\n",
       "      <td>2</td>\n",
       "      <td>No</td>\n",
       "      <td>0</td>\n",
       "      <td>1</td>\n",
       "      <td>41.376390</td>\n",
       "      <td>1.172517</td>\n",
       "      <td>1</td>\n",
       "      <td>1</td>\n",
       "      <td>2</td>\n",
       "      <td>2</td>\n",
       "    </tr>\n",
       "    <tr>\n",
       "      <th>1</th>\n",
       "      <td>6</td>\n",
       "      <td>Yes</td>\n",
       "      <td>0</td>\n",
       "      <td>1</td>\n",
       "      <td>25.163598</td>\n",
       "      <td>0.653050</td>\n",
       "      <td>2</td>\n",
       "      <td>2</td>\n",
       "      <td>2</td>\n",
       "      <td>2</td>\n",
       "    </tr>\n",
       "    <tr>\n",
       "      <th>2</th>\n",
       "      <td>7</td>\n",
       "      <td>Yes</td>\n",
       "      <td>0</td>\n",
       "      <td>1</td>\n",
       "      <td>26.553778</td>\n",
       "      <td>-1.597972</td>\n",
       "      <td>2</td>\n",
       "      <td>3</td>\n",
       "      <td>4</td>\n",
       "      <td>2</td>\n",
       "    </tr>\n",
       "    <tr>\n",
       "      <th>3</th>\n",
       "      <td>10</td>\n",
       "      <td>No</td>\n",
       "      <td>0</td>\n",
       "      <td>2</td>\n",
       "      <td>28.529691</td>\n",
       "      <td>-1.078506</td>\n",
       "      <td>2</td>\n",
       "      <td>3</td>\n",
       "      <td>2</td>\n",
       "      <td>2</td>\n",
       "    </tr>\n",
       "    <tr>\n",
       "      <th>4</th>\n",
       "      <td>12</td>\n",
       "      <td>No</td>\n",
       "      <td>0</td>\n",
       "      <td>2</td>\n",
       "      <td>32.378538</td>\n",
       "      <td>0.479895</td>\n",
       "      <td>2</td>\n",
       "      <td>2</td>\n",
       "      <td>1</td>\n",
       "      <td>2</td>\n",
       "    </tr>\n",
       "    <tr>\n",
       "      <th>5</th>\n",
       "      <td>13</td>\n",
       "      <td>Yes</td>\n",
       "      <td>0</td>\n",
       "      <td>0</td>\n",
       "      <td>32.566788</td>\n",
       "      <td>-1.684550</td>\n",
       "      <td>2</td>\n",
       "      <td>1</td>\n",
       "      <td>2</td>\n",
       "      <td>1</td>\n",
       "    </tr>\n",
       "    <tr>\n",
       "      <th>6</th>\n",
       "      <td>19</td>\n",
       "      <td>No</td>\n",
       "      <td>0</td>\n",
       "      <td>2</td>\n",
       "      <td>29.833921</td>\n",
       "      <td>-1.078506</td>\n",
       "      <td>1</td>\n",
       "      <td>2</td>\n",
       "      <td>3</td>\n",
       "      <td>2</td>\n",
       "    </tr>\n",
       "  </tbody>\n",
       "</table>\n",
       "</div>"
      ],
      "text/plain": [
       "   ID Promotion  purchase  V1         V2        V3  V4  V5  V6  V7\n",
       "0   2        No         0   1  41.376390  1.172517   1   1   2   2\n",
       "1   6       Yes         0   1  25.163598  0.653050   2   2   2   2\n",
       "2   7       Yes         0   1  26.553778 -1.597972   2   3   4   2\n",
       "3  10        No         0   2  28.529691 -1.078506   2   3   2   2\n",
       "4  12        No         0   2  32.378538  0.479895   2   2   1   2\n",
       "5  13       Yes         0   0  32.566788 -1.684550   2   1   2   1\n",
       "6  19        No         0   2  29.833921 -1.078506   1   2   3   2"
      ]
     },
     "execution_count": 74,
     "metadata": {
      "tags": []
     },
     "output_type": "execute_result"
    }
   ],
   "source": [
    "test_data = pd.read_csv('./Test.csv')\n",
    "test_data.head(7)"
   ]
  },
  {
   "cell_type": "code",
   "execution_count": 0,
   "metadata": {
    "colab": {},
    "colab_type": "code",
    "id": "5JWYEOQwPh6j"
   },
   "outputs": [],
   "source": [
    "features = ['V1', 'V2', 'V3', 'V4', 'V5', 'V6', 'V7']"
   ]
  },
  {
   "cell_type": "code",
   "execution_count": 76,
   "metadata": {
    "colab": {
     "base_uri": "https://localhost:8080/",
     "height": 68
    },
    "colab_type": "code",
    "id": "cws0kJPLPh6k",
    "outputId": "9c2df0cd-cfba-4f5e-8c40-b19c992e6e7a",
    "scrolled": true
   },
   "outputs": [
    {
     "data": {
      "text/plain": [
       "Yes    42364\n",
       "No     42170\n",
       "Name: Promotion, dtype: int64"
      ]
     },
     "execution_count": 76,
     "metadata": {
      "tags": []
     },
     "output_type": "execute_result"
    }
   ],
   "source": [
    "train_data['Promotion'].value_counts()"
   ]
  },
  {
   "cell_type": "code",
   "execution_count": 77,
   "metadata": {
    "colab": {
     "base_uri": "https://localhost:8080/",
     "height": 68
    },
    "colab_type": "code",
    "id": "I_KTOAu8Ph6m",
    "outputId": "faa5fdb5-e427-4fdf-8ffd-34304d1bb716"
   },
   "outputs": [
    {
     "data": {
      "text/plain": [
       "0    83494\n",
       "1     1040\n",
       "Name: purchase, dtype: int64"
      ]
     },
     "execution_count": 77,
     "metadata": {
      "tags": []
     },
     "output_type": "execute_result"
    }
   ],
   "source": [
    "train_data['purchase'].value_counts()"
   ]
  },
  {
   "cell_type": "code",
   "execution_count": 78,
   "metadata": {
    "colab": {
     "base_uri": "https://localhost:8080/",
     "height": 607
    },
    "colab_type": "code",
    "id": "M7iYtTCPPh6o",
    "outputId": "33dbe702-a2d1-414c-9656-7591094c71e2"
   },
   "outputs": [
    {
     "data": {
      "image/png": "[encoded data removed]",
      "text/plain": [
       "<Figure size 720x720 with 9 Axes>"
      ]
     },
     "metadata": {
      "tags": []
     },
     "output_type": "display_data"
    }
   ],
   "source": [
    "train_data[(train_data['Promotion']=='Yes') & (train_data['purchase']==1)][features].hist(figsize=(10,10));"
   ]
  },
  {
   "cell_type": "code",
   "execution_count": 79,
   "metadata": {
    "colab": {
     "base_uri": "https://localhost:8080/",
     "height": 607
    },
    "colab_type": "code",
    "id": "m8splQV7Ph6q",
    "outputId": "3a2c2e35-9f29-4e6a-8703-79441ae02c5d"
   },
   "outputs": [
    {
     "data": {
      "image/png": "[encoded data removed]",
      "text/plain": [
       "<Figure size 720x720 with 9 Axes>"
      ]
     },
     "metadata": {
      "tags": []
     },
     "output_type": "display_data"
    }
   ],
   "source": [
    "train_data[(train_data['Promotion']=='Yes') & (train_data['purchase']==0)][features].hist(figsize=(10,10));"
   ]
  },
  {
   "cell_type": "code",
   "execution_count": 80,
   "metadata": {
    "colab": {
     "base_uri": "https://localhost:8080/",
     "height": 607
    },
    "colab_type": "code",
    "id": "SwEZE0V2Ph6r",
    "outputId": "5cb1b605-7584-41f3-e7f5-bf2086e82b7d"
   },
   "outputs": [
    {
     "data": {
      "image/png": "[encoded data removed]",
      "text/plain": [
       "<Figure size 720x720 with 9 Axes>"
      ]
     },
     "metadata": {
      "tags": []
     },
     "output_type": "display_data"
    }
   ],
   "source": [
    "train_data[(train_data['Promotion']=='No') & (train_data['purchase']==1)][features].hist(figsize=(10,10));"
   ]
  },
  {
   "cell_type": "code",
   "execution_count": 81,
   "metadata": {
    "colab": {
     "base_uri": "https://localhost:8080/",
     "height": 607
    },
    "colab_type": "code",
    "id": "Hd_lbe_mPh6t",
    "outputId": "6d23863c-2b9d-4d48-f5e1-5365c0ce01b0"
   },
   "outputs": [
    {
     "data": {
      "image/png": "[encoded data removed]",
      "text/plain": [
       "<Figure size 720x720 with 9 Axes>"
      ]
     },
     "metadata": {
      "tags": []
     },
     "output_type": "display_data"
    }
   ],
   "source": [
    "train_data[(train_data['Promotion']=='No') & (train_data['purchase']==0)][features].hist(figsize=(10,10));"
   ]
  },
  {
   "cell_type": "code",
   "execution_count": 82,
   "metadata": {
    "colab": {
     "base_uri": "https://localhost:8080/",
     "height": 607
    },
    "colab_type": "code",
    "id": "7gKS8u1WPh6u",
    "outputId": "f1f4f9b9-4f3e-422f-d547-0f863b27a54e"
   },
   "outputs": [
    {
     "data": {
      "image/png": "[encoded data removed]",
      "text/plain": [
       "<Figure size 720x720 with 9 Axes>"
      ]
     },
     "metadata": {
      "tags": []
     },
     "output_type": "display_data"
    }
   ],
   "source": [
    "test_data[(test_data['Promotion']=='Yes') & (test_data['purchase']==1)][features].hist(figsize=(10,10));"
   ]
  },
  {
   "cell_type": "code",
   "execution_count": 83,
   "metadata": {
    "colab": {
     "base_uri": "https://localhost:8080/",
     "height": 607
    },
    "colab_type": "code",
    "id": "Ak-5JaxnPh6w",
    "outputId": "8a6091fa-1a53-4b8e-cea9-5f983fe2fea3"
   },
   "outputs": [
    {
     "data": {
      "image/png": "[encoded data removed]",
      "text/plain": [
       "<Figure size 720x720 with 9 Axes>"
      ]
     },
     "metadata": {
      "tags": []
     },
     "output_type": "display_data"
    }
   ],
   "source": [
    "test_data[(test_data['Promotion']=='Yes') & (test_data['purchase']==0)][features].hist(figsize=(10,10));"
   ]
  },
  {
   "cell_type": "code",
   "execution_count": 84,
   "metadata": {
    "colab": {
     "base_uri": "https://localhost:8080/",
     "height": 607
    },
    "colab_type": "code",
    "id": "WuJMtX2YPh6x",
    "outputId": "b0876013-62a9-4b19-8d63-1c4b5fd37369"
   },
   "outputs": [
    {
     "data": {
      "image/png": "[encoded data removed]",
      "text/plain": [
       "<Figure size 720x720 with 9 Axes>"
      ]
     },
     "metadata": {
      "tags": []
     },
     "output_type": "display_data"
    }
   ],
   "source": [
    "test_data[(test_data['Promotion']=='No') & (test_data['purchase']==1)][features].hist(figsize=(10,10));"
   ]
  },
  {
   "cell_type": "code",
   "execution_count": 85,
   "metadata": {
    "colab": {
     "base_uri": "https://localhost:8080/",
     "height": 607
    },
    "colab_type": "code",
    "id": "8k8_6PVbPh6z",
    "outputId": "ffdc2402-6ad7-4dfb-d1f7-c6c5b8aa1d98"
   },
   "outputs": [
    {
     "data": {
      "image/png": "[encoded data removed]",
      "text/plain": [
       "<Figure size 720x720 with 9 Axes>"
      ]
     },
     "metadata": {
      "tags": []
     },
     "output_type": "display_data"
    }
   ],
   "source": [
    "test_data[(test_data['Promotion']=='No') & (test_data['purchase']==0)][features].hist(figsize=(10,10));"
   ]
  },
  {
   "cell_type": "code",
   "execution_count": 0,
   "metadata": {
    "colab": {},
    "colab_type": "code",
    "id": "ZNyfodBBPh61"
   },
   "outputs": [],
   "source": [
    "# testing baseline model, where we send promotions to everyone\n",
    "\n",
    "def promotion_strategy(df):\n",
    "    '''\n",
    "    INPUT \n",
    "    df - a dataframe with *only* the columns V1 - V7 (same as train_data)\n",
    "\n",
    "    OUTPUT\n",
    "    promotion_df - np.array with the values\n",
    "                   'Yes' or 'No' related to whether or not an \n",
    "                   individual should recieve a promotion \n",
    "                   should be the length of df.shape[0]            \n",
    "    Ex:\n",
    "    INPUT: df\n",
    "    \n",
    "    V1\tV2\t  V3\tV4\tV5\tV6\tV7\n",
    "    2\t30\t-1.1\t1\t1\t3\t2\n",
    "    3\t32\t-0.6\t2\t3\t2\t2\n",
    "    2\t30\t0.13\t1\t1\t4\t2\n",
    "    \n",
    "    OUTPUT: promotion\n",
    "    \n",
    "    array(['Yes', 'Yes', 'No'])\n",
    "    indicating the first two users would recieve the promotion and \n",
    "    the last should not.\n",
    "    '''\n",
    "    test = df\n",
    "    \n",
    "    promotion = []\n",
    "    \n",
    "    num_test_points = test.shape[0]\n",
    "    \n",
    "    for i in range(num_test_points):\n",
    "        promotion.append('Yes')\n",
    "        \n",
    "    promotion = np.array(promotion)\n",
    "    \n",
    "    return promotion"
   ]
  },
  {
   "cell_type": "code",
   "execution_count": 0,
   "metadata": {
    "colab": {},
    "colab_type": "code",
    "id": "NzGVgzORU5HJ"
   },
   "outputs": [],
   "source": [
    "import pandas as pd\n",
    "import numpy as np\n",
    "\n",
    "def score(df, promo_pred_col = 'Promotion'):\n",
    "    n_treat       = df.loc[df[promo_pred_col] == 'Yes',:].shape[0]\n",
    "    n_control     = df.loc[df[promo_pred_col] == 'No',:].shape[0]\n",
    "    n_treat_purch = df.loc[df[promo_pred_col] == 'Yes', 'purchase'].sum()\n",
    "    n_ctrl_purch  = df.loc[df[promo_pred_col] == 'No', 'purchase'].sum()\n",
    "    irr = n_treat_purch / n_treat - n_ctrl_purch / n_control\n",
    "    nir = 10 * n_treat_purch - 0.15 * n_treat - 10 * n_ctrl_purch\n",
    "    return (irr, nir)\n",
    "    \n",
    "\n",
    "def test_results(promotion_strategy):\n",
    "    test_data = pd.read_csv('Test.csv')\n",
    "    df = test_data[['V1', 'V2', 'V3', 'V4', 'V5', 'V6', 'V7']]\n",
    "    promos = promotion_strategy(df)\n",
    "    score_df = test_data.iloc[np.where(promos == 'Yes')]    \n",
    "    irr, nir = score(score_df)\n",
    "    \n",
    "    print('irr with this strategy is {:0.4f}.'.format(irr))\n",
    "    print()\n",
    "    print('nir with this strategy is {:0.2f}.'.format(nir))\n",
    "    \n",
    "    return irr, nir\n",
    "\n",
    "# added this function to test our irr and nlr on the validation set\n",
    "def valid_results(promotion_strategy, valid_data):\n",
    "    df = valid_data[['V1', 'V2', 'V3', 'V4', 'V5', 'V6', 'V7']]\n",
    "    promos = promotion_strategy(df)\n",
    "    score_df = valid_data.iloc[np.where(promos == 'Yes')]    \n",
    "    irr, nir = score(score_df)\n",
    "    print('irr with this strategy is {:0.4f}.'.format(irr))\n",
    "    print()\n",
    "    print('nir with this strategy is {:0.2f}.'.format(nir))\n",
    "    \n",
    "    return irr, nir"
   ]
  },
  {
   "cell_type": "code",
   "execution_count": 88,
   "metadata": {
    "colab": {
     "base_uri": "https://localhost:8080/",
     "height": 85
    },
    "colab_type": "code",
    "id": "XSbAQjmnV-Bj",
    "outputId": "5cb45f67-fe4b-4124-dc97-9daea446c12e"
   },
   "outputs": [
    {
     "name": "stdout",
     "output_type": "stream",
     "text": [
      "irr with this strategy is 0.0096.\n",
      "\n",
      "nir with this strategy is -1132.20.\n"
     ]
    },
    {
     "data": {
      "text/plain": [
       "(0.009593158278250108, -1132.1999999999998)"
      ]
     },
     "execution_count": 88,
     "metadata": {
      "tags": []
     },
     "output_type": "execute_result"
    }
   ],
   "source": [
    "test_results(promotion_strategy)"
   ]
  },
  {
   "cell_type": "markdown",
   "metadata": {
    "colab_type": "text",
    "id": "mlrRK6PRPh66"
   },
   "source": [
    "If we were to send everyone a promotion, our IRR is 0.96\\% and NIR is -\\\\$1,132.20. This will be the baseline model. Hence, blindly sending everyone a promotion is going to lose the company a lot of money."
   ]
  },
  {
   "cell_type": "markdown",
   "metadata": {
    "colab_type": "text",
    "id": "ahzlYMlHPh67"
   },
   "source": [
    "## Model 1: Predict only for indivduals who received promotions and purchased\n",
    "\n",
    "In this approach, we will assign labels of 1 to those who received the promotions and made purchases, and labels of 0 to everyone else. \n",
    "\n",
    "We want the model to find the individuals who are likely to purchase only after they received a promotion. "
   ]
  },
  {
   "cell_type": "code",
   "execution_count": 0,
   "metadata": {
    "colab": {},
    "colab_type": "code",
    "id": "Sz8Rp2hvPh68"
   },
   "outputs": [],
   "source": [
    "# read data\n",
    "train_data = pd.read_csv('./training.csv')\n",
    "test_data = pd.read_csv('./Test.csv')"
   ]
  },
  {
   "cell_type": "code",
   "execution_count": 0,
   "metadata": {
    "colab": {},
    "colab_type": "code",
    "id": "EC7vGe28Ph6-"
   },
   "outputs": [],
   "source": [
    "# generate labels\n",
    "# only those who made a purchase after receiving a promotion will be assigned a label of 1, \n",
    "# while the other individuals will be given a label of 0\n",
    "\n",
    "response = []\n",
    "\n",
    "for index, row in train_data.iterrows():\n",
    "    if (row['purchase'] == 1) and (row['Promotion']=='Yes'):\n",
    "        response.append(1.0)\n",
    "    else:\n",
    "        response.append(0.0)\n",
    "        \n",
    "train_data['response'] = response"
   ]
  },
  {
   "cell_type": "code",
   "execution_count": 91,
   "metadata": {
    "colab": {
     "base_uri": "https://localhost:8080/",
     "height": 204
    },
    "colab_type": "code",
    "id": "WVKqlMLKPh7C",
    "outputId": "f5f49dbf-29b5-46a2-e595-a12cc9af269b"
   },
   "outputs": [
    {
     "data": {
      "text/html": [
       "<div>\n",
       "<style scoped>\n",
       "    .dataframe tbody tr th:only-of-type {\n",
       "        vertical-align: middle;\n",
       "    }\n",
       "\n",
       "    .dataframe tbody tr th {\n",
       "        vertical-align: top;\n",
       "    }\n",
       "\n",
       "    .dataframe thead th {\n",
       "        text-align: right;\n",
       "    }\n",
       "</style>\n",
       "<table border=\"1\" class=\"dataframe\">\n",
       "  <thead>\n",
       "    <tr style=\"text-align: right;\">\n",
       "      <th></th>\n",
       "      <th>ID</th>\n",
       "      <th>Promotion</th>\n",
       "      <th>purchase</th>\n",
       "      <th>V1</th>\n",
       "      <th>V2</th>\n",
       "      <th>V3</th>\n",
       "      <th>V4</th>\n",
       "      <th>V5</th>\n",
       "      <th>V6</th>\n",
       "      <th>V7</th>\n",
       "      <th>response</th>\n",
       "    </tr>\n",
       "  </thead>\n",
       "  <tbody>\n",
       "    <tr>\n",
       "      <th>0</th>\n",
       "      <td>1</td>\n",
       "      <td>No</td>\n",
       "      <td>0</td>\n",
       "      <td>2</td>\n",
       "      <td>30.443518</td>\n",
       "      <td>-1.165083</td>\n",
       "      <td>1</td>\n",
       "      <td>1</td>\n",
       "      <td>3</td>\n",
       "      <td>2</td>\n",
       "      <td>0.0</td>\n",
       "    </tr>\n",
       "    <tr>\n",
       "      <th>1</th>\n",
       "      <td>3</td>\n",
       "      <td>No</td>\n",
       "      <td>0</td>\n",
       "      <td>3</td>\n",
       "      <td>32.159350</td>\n",
       "      <td>-0.645617</td>\n",
       "      <td>2</td>\n",
       "      <td>3</td>\n",
       "      <td>2</td>\n",
       "      <td>2</td>\n",
       "      <td>0.0</td>\n",
       "    </tr>\n",
       "    <tr>\n",
       "      <th>2</th>\n",
       "      <td>4</td>\n",
       "      <td>No</td>\n",
       "      <td>0</td>\n",
       "      <td>2</td>\n",
       "      <td>30.431659</td>\n",
       "      <td>0.133583</td>\n",
       "      <td>1</td>\n",
       "      <td>1</td>\n",
       "      <td>4</td>\n",
       "      <td>2</td>\n",
       "      <td>0.0</td>\n",
       "    </tr>\n",
       "    <tr>\n",
       "      <th>3</th>\n",
       "      <td>5</td>\n",
       "      <td>No</td>\n",
       "      <td>0</td>\n",
       "      <td>0</td>\n",
       "      <td>26.588914</td>\n",
       "      <td>-0.212728</td>\n",
       "      <td>2</td>\n",
       "      <td>1</td>\n",
       "      <td>4</td>\n",
       "      <td>2</td>\n",
       "      <td>0.0</td>\n",
       "    </tr>\n",
       "    <tr>\n",
       "      <th>4</th>\n",
       "      <td>8</td>\n",
       "      <td>Yes</td>\n",
       "      <td>0</td>\n",
       "      <td>3</td>\n",
       "      <td>28.044332</td>\n",
       "      <td>-0.385883</td>\n",
       "      <td>1</td>\n",
       "      <td>1</td>\n",
       "      <td>2</td>\n",
       "      <td>2</td>\n",
       "      <td>0.0</td>\n",
       "    </tr>\n",
       "  </tbody>\n",
       "</table>\n",
       "</div>"
      ],
      "text/plain": [
       "   ID Promotion  purchase  V1         V2        V3  V4  V5  V6  V7  response\n",
       "0   1        No         0   2  30.443518 -1.165083   1   1   3   2       0.0\n",
       "1   3        No         0   3  32.159350 -0.645617   2   3   2   2       0.0\n",
       "2   4        No         0   2  30.431659  0.133583   1   1   4   2       0.0\n",
       "3   5        No         0   0  26.588914 -0.212728   2   1   4   2       0.0\n",
       "4   8       Yes         0   3  28.044332 -0.385883   1   1   2   2       0.0"
      ]
     },
     "execution_count": 91,
     "metadata": {
      "tags": []
     },
     "output_type": "execute_result"
    }
   ],
   "source": [
    "train_data.head()"
   ]
  },
  {
   "cell_type": "code",
   "execution_count": 0,
   "metadata": {
    "colab": {},
    "colab_type": "code",
    "id": "0XDb0c-KPh7F"
   },
   "outputs": [],
   "source": [
    "# split data into train and valid\n",
    "train, valid = sk.model_selection.train_test_split(train_data, test_size=0.2,random_state=42)"
   ]
  },
  {
   "cell_type": "code",
   "execution_count": 0,
   "metadata": {
    "colab": {},
    "colab_type": "code",
    "id": "ZCmcr23JPh7H"
   },
   "outputs": [],
   "source": [
    "# generate features and labels\n",
    "Y_train = train['response']\n",
    "X_train = train[features]\n",
    "\n",
    "Y_valid = valid['response']\n",
    "X_valid = valid[features]"
   ]
  },
  {
   "cell_type": "code",
   "execution_count": 94,
   "metadata": {
    "colab": {
     "base_uri": "https://localhost:8080/",
     "height": 68
    },
    "colab_type": "code",
    "id": "zleRqwTaPh7J",
    "outputId": "f0137b28-a0a3-47cc-d2a3-c455d98ac6e9"
   },
   "outputs": [
    {
     "data": {
      "text/plain": [
       "0.0    67047\n",
       "1.0      580\n",
       "Name: response, dtype: int64"
      ]
     },
     "execution_count": 94,
     "metadata": {
      "tags": []
     },
     "output_type": "execute_result"
    }
   ],
   "source": [
    "Y_train.value_counts()"
   ]
  },
  {
   "cell_type": "code",
   "execution_count": 0,
   "metadata": {
    "colab": {},
    "colab_type": "code",
    "id": "BqkL8Rs-Ph7K"
   },
   "outputs": [],
   "source": [
    "from imblearn.over_sampling import SMOTE"
   ]
  },
  {
   "cell_type": "code",
   "execution_count": 0,
   "metadata": {
    "colab": {},
    "colab_type": "code",
    "id": "jWWzbD4sPh7M"
   },
   "outputs": [],
   "source": [
    "# up sample (minority class? )only the train dataset with SMOTE\n",
    "sm = SMOTE(random_state=42, ratio = 1.0)\n",
    "X_train_upsamp, Y_train_upsamp = sm.fit_sample(X_train, Y_train)\n",
    "    \n",
    "X_train_upsamp = pd.DataFrame(X_train_upsamp, columns=features)\n",
    "\n",
    "Y_train_upsamp = pd.Series(Y_train_upsamp)"
   ]
  },
  {
   "cell_type": "code",
   "execution_count": 97,
   "metadata": {
    "colab": {
     "base_uri": "https://localhost:8080/",
     "height": 68
    },
    "colab_type": "code",
    "id": "sSLnFlbVPh7O",
    "outputId": "749aa3ef-a417-4824-d000-96fc92c2fd74"
   },
   "outputs": [
    {
     "data": {
      "text/plain": [
       "1.0    67047\n",
       "0.0    67047\n",
       "dtype: int64"
      ]
     },
     "execution_count": 97,
     "metadata": {
      "tags": []
     },
     "output_type": "execute_result"
    }
   ],
   "source": [
    "Y_train_upsamp.value_counts()"
   ]
  },
  {
   "cell_type": "code",
   "execution_count": 0,
   "metadata": {
    "colab": {},
    "colab_type": "code",
    "id": "O_9cBjr2Y1VR"
   },
   "outputs": [],
   "source": [
    "from sklearn.linear_model import LogisticRegression"
   ]
  },
  {
   "cell_type": "code",
   "execution_count": 99,
   "metadata": {
    "colab": {
     "base_uri": "https://localhost:8080/",
     "height": 71
    },
    "colab_type": "code",
    "id": "nPAaXmGkY-y6",
    "outputId": "728fe846-c3f8-4fba-8d20-7626195c6894"
   },
   "outputs": [
    {
     "name": "stderr",
     "output_type": "stream",
     "text": [
      "/usr/local/lib/python3.6/dist-packages/sklearn/linear_model/logistic.py:432: FutureWarning: Default solver will be changed to 'lbfgs' in 0.22. Specify a solver to silence this warning.\n",
      "  FutureWarning)\n"
     ]
    }
   ],
   "source": [
    "model = LogisticRegression().fit(X_train_upsamp, Y_train_upsamp)"
   ]
  },
  {
   "cell_type": "code",
   "execution_count": 100,
   "metadata": {
    "colab": {
     "base_uri": "https://localhost:8080/",
     "height": 51
    },
    "colab_type": "code",
    "id": "w_aT8qAOY9uX",
    "outputId": "acd76e6e-adb6-40cf-ee56-d3966f80404a"
   },
   "outputs": [
    {
     "data": {
      "text/plain": [
       "array([[ 6617, 10149],\n",
       "       [   39,   102]])"
      ]
     },
     "execution_count": 100,
     "metadata": {
      "tags": []
     },
     "output_type": "execute_result"
    }
   ],
   "source": [
    "# confusion matrix\n",
    "valid_pred = model.predict(X_valid)\n",
    "cm = sk.metrics.confusion_matrix\n",
    "cm(Y_valid, valid_pred)"
   ]
  },
  {
   "cell_type": "code",
   "execution_count": 101,
   "metadata": {
    "colab": {
     "base_uri": "https://localhost:8080/",
     "height": 34
    },
    "colab_type": "code",
    "id": "8Ufc6R4Rbdta",
    "outputId": "6964f901-ab28-4f3c-d82f-ff38d4a85c8a"
   },
   "outputs": [
    {
     "name": "stdout",
     "output_type": "stream",
     "text": [
      "0.39740935707103564\n"
     ]
    }
   ],
   "source": [
    "import sklearn.metrics as me\n",
    "\n",
    "accuracy = me.accuracy_score( valid_pred,Y_valid)\n",
    "\n",
    "print (accuracy)"
   ]
  },
  {
   "cell_type": "code",
   "execution_count": 0,
   "metadata": {
    "colab": {},
    "colab_type": "code",
    "id": "91olHWYVY_Ql"
   },
   "outputs": [],
   "source": [
    "from sklearn.ensemble import RandomForestClassifier"
   ]
  },
  {
   "cell_type": "code",
   "execution_count": 0,
   "metadata": {
    "colab": {},
    "colab_type": "code",
    "id": "i0-kaFu8Ph7Q"
   },
   "outputs": [],
   "source": [
    "model = RandomForestClassifier(n_estimators=100, max_depth=2, random_state=0)"
   ]
  },
  {
   "cell_type": "code",
   "execution_count": 0,
   "metadata": {
    "colab": {},
    "colab_type": "code",
    "id": "pihkHVfLPh7S"
   },
   "outputs": [],
   "source": [
    "model = model.fit(X_train_upsamp, Y_train_upsamp)"
   ]
  },
  {
   "cell_type": "code",
   "execution_count": 105,
   "metadata": {
    "colab": {
     "base_uri": "https://localhost:8080/",
     "height": 51
    },
    "colab_type": "code",
    "id": "BBKFE475hFuJ",
    "outputId": "7b2e4771-bea3-458e-8bc5-04418e4d6d80"
   },
   "outputs": [
    {
     "data": {
      "text/plain": [
       "array([[10660,  6106],\n",
       "       [   57,    84]])"
      ]
     },
     "execution_count": 105,
     "metadata": {
      "tags": []
     },
     "output_type": "execute_result"
    }
   ],
   "source": [
    "# confusion matrix\n",
    "valid_pred = model.predict(X_valid)\n",
    "cm = sk.metrics.confusion_matrix\n",
    "cm(Y_valid, valid_pred)"
   ]
  },
  {
   "cell_type": "code",
   "execution_count": 106,
   "metadata": {
    "colab": {
     "base_uri": "https://localhost:8080/",
     "height": 34
    },
    "colab_type": "code",
    "id": "NTOPWfH2hFDX",
    "outputId": "a72fc28f-8db6-4ec3-8be5-d22b5d7fe78d"
   },
   "outputs": [
    {
     "name": "stdout",
     "output_type": "stream",
     "text": [
      "0.6354764298811143\n"
     ]
    }
   ],
   "source": [
    "accuracy = me.accuracy_score( valid_pred,Y_valid)\n",
    "\n",
    "print (accuracy)"
   ]
  },
  {
   "cell_type": "code",
   "execution_count": 0,
   "metadata": {
    "colab": {},
    "colab_type": "code",
    "id": "ZiGskLz_cf20"
   },
   "outputs": [],
   "source": [
    "from sklearn.neighbors import KNeighborsClassifier"
   ]
  },
  {
   "cell_type": "code",
   "execution_count": 108,
   "metadata": {
    "colab": {
     "base_uri": "https://localhost:8080/",
     "height": 51
    },
    "colab_type": "code",
    "id": "7xFhb5n7cfpk",
    "outputId": "ef385551-8c11-43bd-900d-cd92c7ce2be0"
   },
   "outputs": [
    {
     "data": {
      "text/plain": [
       "array([[15909,   857],\n",
       "       [  134,     7]])"
      ]
     },
     "execution_count": 108,
     "metadata": {
      "tags": []
     },
     "output_type": "execute_result"
    }
   ],
   "source": [
    "model = KNeighborsClassifier(n_neighbors = 6, metric = 'minkowski', p = 2).fit(X_train_upsamp, Y_train_upsamp)\n",
    "\n",
    "\n",
    "# confusion matrix\n",
    "valid_pred = model.predict(X_valid)\n",
    "cm = sk.metrics.confusion_matrix\n",
    "cm(Y_valid, valid_pred)\n"
   ]
  },
  {
   "cell_type": "code",
   "execution_count": 109,
   "metadata": {
    "colab": {
     "base_uri": "https://localhost:8080/",
     "height": 34
    },
    "colab_type": "code",
    "id": "J6zPMq1KcfSx",
    "outputId": "ba223dd0-bb55-4a1b-ab6d-b7e7a4e8d003"
   },
   "outputs": [
    {
     "name": "stdout",
     "output_type": "stream",
     "text": [
      "0.9413852250547111\n"
     ]
    }
   ],
   "source": [
    "accuracy = me.accuracy_score( valid_pred,Y_valid)\n",
    "\n",
    "print (accuracy)"
   ]
  },
  {
   "cell_type": "code",
   "execution_count": 110,
   "metadata": {
    "colab": {
     "base_uri": "https://localhost:8080/",
     "height": 816
    },
    "colab_type": "code",
    "id": "9sYzNd9IPh7W",
    "outputId": "d2b02bea-b80d-4e38-8a2b-f03c7aa721b1"
   },
   "outputs": [
    {
     "name": "stdout",
     "output_type": "stream",
     "text": [
      "[0]\tvalidation_0-auc:0.891992\tvalidation_1-auc:0.645481\n",
      "Multiple eval metrics have been passed: 'validation_1-auc' will be used for early stopping.\n",
      "\n",
      "Will train until validation_1-auc hasn't improved in 30 rounds.\n",
      "[1]\tvalidation_0-auc:0.898054\tvalidation_1-auc:0.653202\n",
      "[2]\tvalidation_0-auc:0.906917\tvalidation_1-auc:0.65697\n",
      "[3]\tvalidation_0-auc:0.915775\tvalidation_1-auc:0.658408\n",
      "[4]\tvalidation_0-auc:0.934996\tvalidation_1-auc:0.655914\n",
      "[5]\tvalidation_0-auc:0.935649\tvalidation_1-auc:0.651876\n",
      "[6]\tvalidation_0-auc:0.935016\tvalidation_1-auc:0.654039\n",
      "[7]\tvalidation_0-auc:0.943776\tvalidation_1-auc:0.655699\n",
      "[8]\tvalidation_0-auc:0.944752\tvalidation_1-auc:0.650929\n",
      "[9]\tvalidation_0-auc:0.950239\tvalidation_1-auc:0.648446\n",
      "[10]\tvalidation_0-auc:0.950787\tvalidation_1-auc:0.648789\n",
      "[11]\tvalidation_0-auc:0.957777\tvalidation_1-auc:0.648527\n",
      "[12]\tvalidation_0-auc:0.959635\tvalidation_1-auc:0.645952\n",
      "[13]\tvalidation_0-auc:0.961191\tvalidation_1-auc:0.644991\n",
      "[14]\tvalidation_0-auc:0.963264\tvalidation_1-auc:0.644359\n",
      "[15]\tvalidation_0-auc:0.964559\tvalidation_1-auc:0.643373\n",
      "[16]\tvalidation_0-auc:0.96789\tvalidation_1-auc:0.642907\n",
      "[17]\tvalidation_0-auc:0.971348\tvalidation_1-auc:0.643167\n",
      "[18]\tvalidation_0-auc:0.971811\tvalidation_1-auc:0.642867\n",
      "[19]\tvalidation_0-auc:0.972129\tvalidation_1-auc:0.640521\n",
      "[20]\tvalidation_0-auc:0.972874\tvalidation_1-auc:0.641371\n",
      "[21]\tvalidation_0-auc:0.974931\tvalidation_1-auc:0.641463\n",
      "[22]\tvalidation_0-auc:0.975742\tvalidation_1-auc:0.641142\n",
      "[23]\tvalidation_0-auc:0.975969\tvalidation_1-auc:0.641459\n",
      "[24]\tvalidation_0-auc:0.976825\tvalidation_1-auc:0.641571\n",
      "[25]\tvalidation_0-auc:0.978049\tvalidation_1-auc:0.639893\n",
      "[26]\tvalidation_0-auc:0.978595\tvalidation_1-auc:0.640487\n",
      "[27]\tvalidation_0-auc:0.979204\tvalidation_1-auc:0.640151\n",
      "[28]\tvalidation_0-auc:0.980176\tvalidation_1-auc:0.641093\n",
      "[29]\tvalidation_0-auc:0.98085\tvalidation_1-auc:0.638883\n",
      "[30]\tvalidation_0-auc:0.981953\tvalidation_1-auc:0.639622\n",
      "[31]\tvalidation_0-auc:0.982504\tvalidation_1-auc:0.639453\n",
      "[32]\tvalidation_0-auc:0.983063\tvalidation_1-auc:0.639492\n",
      "[33]\tvalidation_0-auc:0.98367\tvalidation_1-auc:0.640488\n",
      "Stopping. Best iteration:\n",
      "[3]\tvalidation_0-auc:0.915775\tvalidation_1-auc:0.658408\n",
      "\n"
     ]
    },
    {
     "data": {
      "text/plain": [
       "XGBClassifier(base_score=0.5, booster='gbtree', colsample_bylevel=1,\n",
       "              colsample_bynode=1, colsample_bytree=1, gamma=0.1,\n",
       "              learning_rate=0.1, max_delta_step=0, max_depth=7,\n",
       "              min_child_weight=5, missing=None, n_estimators=100, n_jobs=1,\n",
       "              nthread=None, objective='binary:logistic', random_state=0,\n",
       "              reg_alpha=0, reg_lambda=1, scale_pos_weight=1, seed=42,\n",
       "              silent=True, subsample=1, verbosity=1)"
      ]
     },
     "execution_count": 110,
     "metadata": {
      "tags": []
     },
     "output_type": "execute_result"
    }
   ],
   "source": [
    "# Train an xgboost model\n",
    "eval_set = [(X_train_upsamp, Y_train_upsamp), (X_valid, Y_valid)]\n",
    "model = xgb.XGBClassifier(learning_rate = 0.1,\\\n",
    "                          max_depth = 7,\\\n",
    "                          min_child_weight = 5,\\\n",
    "                          objective = 'binary:logistic',\\\n",
    "                          seed = 42,\\\n",
    "                          gamma = 0.1,\\\n",
    "                          silent = True)\n",
    "model.fit(X_train_upsamp, Y_train_upsamp, eval_set=eval_set,\\\n",
    "          eval_metric=\"auc\", verbose=True, early_stopping_rounds=30)"
   ]
  },
  {
   "cell_type": "code",
   "execution_count": 111,
   "metadata": {
    "colab": {
     "base_uri": "https://localhost:8080/",
     "height": 1000
    },
    "colab_type": "code",
    "id": "xYCQtqmBPh7Z",
    "outputId": "22920998-253c-4290-f88e-e8028245935c"
   },
   "outputs": [
    {
     "data": {
      "image/png": "[encoded data removed]",
      "text/plain": [
       "<Figure size 720x1296 with 1 Axes>"
      ]
     },
     "metadata": {
      "tags": []
     },
     "output_type": "display_data"
    }
   ],
   "source": [
    "# check which features are important\n",
    "\n",
    "from xgboost import plot_importance\n",
    "from matplotlib import pyplot\n",
    "\n",
    "fig, ax = pyplot.subplots(figsize=(10, 18));\n",
    "xgb.plot_importance(model, ax=ax);"
   ]
  },
  {
   "cell_type": "code",
   "execution_count": 112,
   "metadata": {
    "colab": {
     "base_uri": "https://localhost:8080/",
     "height": 51
    },
    "colab_type": "code",
    "id": "iwHhyglMPh7b",
    "outputId": "eac6fedc-fc1d-46ad-856b-da4ca0469f61"
   },
   "outputs": [
    {
     "data": {
      "text/plain": [
       "array([[12684,  4082],\n",
       "       [   83,    58]])"
      ]
     },
     "execution_count": 112,
     "metadata": {
      "tags": []
     },
     "output_type": "execute_result"
    }
   ],
   "source": [
    "# confusion matrix\n",
    "valid_pred = model.predict(X_valid, ntree_limit=model.best_ntree_limit)\n",
    "cm = sk.metrics.confusion_matrix\n",
    "cm(Y_valid, valid_pred)"
   ]
  },
  {
   "cell_type": "code",
   "execution_count": 113,
   "metadata": {
    "colab": {
     "base_uri": "https://localhost:8080/",
     "height": 34
    },
    "colab_type": "code",
    "id": "LM4vRy98hPD2",
    "outputId": "74f34820-1eeb-4902-a794-b91ec708bfc2"
   },
   "outputs": [
    {
     "name": "stdout",
     "output_type": "stream",
     "text": [
      "0.753652333353049\n"
     ]
    }
   ],
   "source": [
    "accuracy = me.accuracy_score( valid_pred,Y_valid)\n",
    "\n",
    "print (accuracy)"
   ]
  },
  {
   "cell_type": "code",
   "execution_count": 114,
   "metadata": {
    "colab": {
     "base_uri": "https://localhost:8080/",
     "height": 621
    },
    "colab_type": "code",
    "id": "oFJ-RxvXPh7c",
    "outputId": "eb00f6dc-cb02-4f11-b419-b95990787710"
   },
   "outputs": [
    {
     "data": {
      "image/png": "[encoded data removed]",
      "text/plain": [
       "<Figure size 720x720 with 2 Axes>"
      ]
     },
     "metadata": {
      "tags": []
     },
     "output_type": "display_data"
    }
   ],
   "source": [
    "# confusion marix for thge validation set\n",
    "valid_pred = model.predict(X_valid, ntree_limit=model.best_ntree_limit)\n",
    "cm = sk.metrics.confusion_matrix(Y_valid, valid_pred)\n",
    "\n",
    "fig, ax= plt.subplots(figsize=(10,10))\n",
    "sb.heatmap(cm, annot=True, fmt='g', ax = ax); #annot=True to annotate cells\n",
    "\n",
    "# labels, title and ticks\n",
    "ax.set_xlabel('Predicted labels');\n",
    "ax.set_ylabel('True labels'); \n",
    "ax.set_title('Confusion Matrix'); \n",
    "ax.xaxis.set_ticklabels(['No Purchase', 'Made Purchase']); \n",
    "ax.yaxis.set_ticklabels(['No Purchase', 'Made Purchase']);"
   ]
  },
  {
   "cell_type": "code",
   "execution_count": 0,
   "metadata": {
    "colab": {},
    "colab_type": "code",
    "id": "eBBdYPu9Ph7d"
   },
   "outputs": [],
   "source": [
    "def promotion_strategy(df):\n",
    "    '''\n",
    "    INPUT \n",
    "    df - a dataframe with *only* the columns V1 - V7 (same as train_data)\n",
    "\n",
    "    OUTPUT\n",
    "    promotion_df - np.array with the values\n",
    "                   'Yes' or 'No' related to whether or not an \n",
    "                   individual should recieve a promotion \n",
    "                   should be the length of df.shape[0]\n",
    "                \n",
    "    Ex:\n",
    "    INPUT: df\n",
    "    \n",
    "    V1\tV2\t  V3\tV4\tV5\tV6\tV7\n",
    "    2\t30\t-1.1\t1\t1\t3\t2\n",
    "    3\t32\t-0.6\t2\t3\t2\t2\n",
    "    2\t30\t0.13\t1\t1\t4\t2\n",
    "    \n",
    "    OUTPUT: promotion\n",
    "    \n",
    "    array(['Yes', 'Yes', 'No'])\n",
    "    indicating the first two users would recieve the promotion and \n",
    "    the last should not.\n",
    "    '''\n",
    "    test = df\n",
    "    \n",
    "    preds = model.predict(test, ntree_limit=model.best_ntree_limit)\n",
    "\n",
    "    promotion = []\n",
    "    for pred in preds:\n",
    "        if pred == 1:\n",
    "            promotion.append('Yes')\n",
    "        else:\n",
    "            promotion.append('No')\n",
    "    promotion = np.array(promotion)\n",
    "    return promotion"
   ]
  },
  {
   "cell_type": "code",
   "execution_count": 116,
   "metadata": {
    "colab": {
     "base_uri": "https://localhost:8080/",
     "height": 85
    },
    "colab_type": "code",
    "id": "ZChcxT7ZPh7f",
    "outputId": "3aa1ff9c-3672-4eb5-9e2b-fbadffa62532"
   },
   "outputs": [
    {
     "name": "stdout",
     "output_type": "stream",
     "text": [
      "irr with this strategy is 0.0193.\n",
      "\n",
      "nir with this strategy is 94.70.\n"
     ]
    },
    {
     "data": {
      "text/plain": [
       "(0.01925125750605293, 94.69999999999999)"
      ]
     },
     "execution_count": 116,
     "metadata": {
      "tags": []
     },
     "output_type": "execute_result"
    }
   ],
   "source": [
    "# test irr and nlr on our validation set\n",
    "valid_results(promotion_strategy, valid)"
   ]
  },
  {
   "cell_type": "code",
   "execution_count": 117,
   "metadata": {
    "colab": {
     "base_uri": "https://localhost:8080/",
     "height": 85
    },
    "colab_type": "code",
    "id": "0qnCQfiuPh7h",
    "outputId": "e183fee2-a622-40be-c1aa-9573fe8b9d6c"
   },
   "outputs": [
    {
     "name": "stdout",
     "output_type": "stream",
     "text": [
      "irr with this strategy is 0.0219.\n",
      "\n",
      "nir with this strategy is 332.70.\n"
     ]
    },
    {
     "data": {
      "text/plain": [
       "(0.02185148545762388, 332.70000000000005)"
      ]
     },
     "execution_count": 117,
     "metadata": {
      "tags": []
     },
     "output_type": "execute_result"
    }
   ],
   "source": [
    "# This will test your results, and provide you back some information \n",
    "# on how well your promotion_strategy will work in practice\n",
    "\n",
    "test_results(promotion_strategy)"
   ]
  },
  {
   "cell_type": "code",
   "execution_count": 0,
   "metadata": {
    "colab": {},
    "colab_type": "code",
    "id": "ZvJvJLfyYBdI"
   },
   "outputs": [],
   "source": []
  }
 ],
 "metadata": {
  "colab": {
   "collapsed_sections": [],
   "name": "GoDaddy Uplift.ipynb",
   "provenance": [],
   "toc_visible": true,
   "version": "0.3.2"
  },
  "kernelspec": {
   "display_name": "Python 3",
   "language": "python",
   "name": "python3"
  },
  "language_info": {
   "codemirror_mode": {
    "name": "ipython",
    "version": 3
   },
   "file_extension": ".py",
   "mimetype": "text/x-python",
   "name": "python",
   "nbconvert_exporter": "python",
   "pygments_lexer": "ipython3",
   "version": "3.7.3"
  }
 },
 "nbformat": 4,
 "nbformat_minor": 1
}
