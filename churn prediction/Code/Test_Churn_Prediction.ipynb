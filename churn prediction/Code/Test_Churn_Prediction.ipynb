{
 "cells": [
  {
   "cell_type": "code",
   "execution_count": 2,
   "metadata": {},
   "outputs": [
    {
     "name": "stdout",
     "output_type": "stream",
     "text": [
      "b'{\"Results\":{\"output1\":[{\"customerID\":\"9237-HQITU\",\"gender\":\"Female\",\"SeniorCitizen\":\"0\",\"Partner\":\"No\",\"Dependents\":\"No\",\"tenure\":\"2\",\"PhoneService\":\"Yes\",\"InternetService\":\"Fiber optic\",\"OnlineSecurity\":\"No\",\"OnlineBackup\":\"No\",\"ProductProtection\":\"No\",\"TechSupport\":\"No\",\"FacebookAdvertising\":\"No\",\"Contract\":\"Month-to-month\",\"PaperlessBilling\":\"Yes\",\"PaymentMethod\":\"Electronic check\",\"MonthlyCharges\":\"70.7\",\"TotalCharges\":\"151.65\",\"Churn\":\"Yes\",\"Scored Labels\":\"Yes\",\"Scored Probabilities\":\"0.715690016746521\"}]}}'\n"
     ]
    }
   ],
   "source": [
    "import urllib.request\n",
    "import json\n",
    "\n",
    "data = {\n",
    "        \"Inputs\": {\n",
    "                \"input1\":\n",
    "                [\n",
    "                    {\n",
    "                            'customerID': \"9237-HQITU\",   \n",
    "                            'gender': \"Female\",   \n",
    "                            'SeniorCitizen': \"0\",   \n",
    "                            'Partner': \"No\",   \n",
    "                            'Dependents': \"No\",   \n",
    "                            'tenure': \"2\",   \n",
    "                            'PhoneService': \"Yes\",   \n",
    "                            'InternetService': \"Fiber optic\",   \n",
    "                            'OnlineSecurity': \"No\",   \n",
    "                            'OnlineBackup': \"No\",   \n",
    "                            'ProductProtection': \"No\",   \n",
    "                            'TechSupport': \"No\",   \n",
    "                            'FacebookAdvertising': \"No\",   \n",
    "                            'Contract': \"Month-to-month\",   \n",
    "                            'PaperlessBilling': \"Yes\",   \n",
    "                            'PaymentMethod': \"Electronic check\",   \n",
    "                            'MonthlyCharges': \"70.7\",   \n",
    "                            'TotalCharges': \"151.65\",   \n",
    "                            'Churn': \"Yes\",   \n",
    "                    }\n",
    "                ],\n",
    "        },\n",
    "    \"GlobalParameters\":  {\n",
    "    }\n",
    "}\n",
    "\n",
    "body = str.encode(json.dumps(data))\n",
    "\n",
    "url = 'https://ussouthcentral.services.azureml.net/workspaces/312f72c93c0744c19dd025e837fcd1d5/services/771658f6c18a42dd9f17e5874d31dd3b/execute?api-version=2.0&format=swagger'\n",
    "api_key = 'abc123' # Replace this with the API key for the web service\n",
    "headers = {'Content-Type':'application/json', 'Authorization':('Bearer '+ api_key)}\n",
    "\n",
    "req = urllib.request.Request(url, body, headers)\n",
    "\n",
    "try:\n",
    "    response = urllib.request.urlopen(req)\n",
    "\n",
    "    result = response.read()\n",
    "    print(result)\n",
    "except urllib.error.HTTPError as error:\n",
    "    print(\"The request failed with status code: \" + str(error.code))\n",
    "\n",
    "    # Print the headers - they include the requert ID and the timestamp, which are useful for debugging the failure\n",
    "    print(error.info())\n",
    "    print(json.loads(error.read().decode(\"utf8\", 'ignore')))"
   ]
  },
  {
   "cell_type": "code",
   "execution_count": null,
   "metadata": {},
   "outputs": [],
   "source": []
  }
 ],
 "metadata": {
  "kernelspec": {
   "display_name": "Python 3",
   "language": "python",
   "name": "python3"
  },
  "language_info": {
   "codemirror_mode": {
    "name": "ipython",
    "version": 3
   },
   "file_extension": ".py",
   "mimetype": "text/x-python",
   "name": "python",
   "nbconvert_exporter": "python",
   "pygments_lexer": "ipython3",
   "version": "3.7.3"
  }
 },
 "nbformat": 4,
 "nbformat_minor": 2
}
