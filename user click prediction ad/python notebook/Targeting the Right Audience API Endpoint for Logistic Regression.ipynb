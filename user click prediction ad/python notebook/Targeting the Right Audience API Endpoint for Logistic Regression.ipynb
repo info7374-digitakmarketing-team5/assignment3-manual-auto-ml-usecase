{
 "cells": [
  {
   "cell_type": "code",
   "execution_count": 3,
   "metadata": {},
   "outputs": [
    {
     "name": "stdout",
     "output_type": "stream",
     "text": [
      "b'{\"Results\":{\"output1\":[{\"Daily Time Spent on Site\":\"68.95\",\"Age\":\"35\",\"Area Income\":\"61833.9\",\"Daily Internet Usage\":\"256.09\",\"Male\":\"0\",\"Clicked on Ad\":\"0\",\"Month\":\"3\",\"Day of the month\":\"27\",\"Day of the week\":\"6\",\"Hour\":\"0\",\"Scored Labels\":\"0\",\"Scored Probabilities\":\"0.128296941518784\"}]}}'\n"
     ]
    }
   ],
   "source": [
    "import urllib.request\n",
    "import json\n",
    "\n",
    "data = {\n",
    "        \"Inputs\": {\n",
    "                \"input1\":\n",
    "                [\n",
    "                    {\n",
    "                            'Daily Time Spent on Site': \"68.95\",   \n",
    "                            'Age': \"35\",   \n",
    "                            'Area Income': \"61833.9\",   \n",
    "                            'Daily Internet Usage': \"256.09\",   \n",
    "                            'Ad Topic Line': \"Cloned 5thgeneration orchestration\",   \n",
    "                            'City': \"Wrightburgh\",   \n",
    "                            'Male': \"0\",   \n",
    "                            'Country': \"Tunisia\",   \n",
    "                            'Timestamp': \"2016-03-27T00:53:00Z\",   \n",
    "                            'Clicked on Ad': \"0\",   \n",
    "                    }\n",
    "                ],\n",
    "        },\n",
    "    \"GlobalParameters\":  {\n",
    "    }\n",
    "}\n",
    "\n",
    "body = str.encode(json.dumps(data))\n",
    "\n",
    "url = 'https://ussouthcentral.services.azureml.net/workspaces/ef38c30a218d4b6596c184f8980f563f/services/b306c2c378f64c0b83be8c8de8bf064b/execute?api-version=2.0&format=swagger'\n",
    "api_key = 'kF0DpKj2wPUB6ytds1+59ejPqrq8qWQyajN/0MhqrYUx5sSm+toveiz6SzfEI91Ax/K4QxLm++NdEbCjQ+Ga9w==' # Replace this with the API key for the web service\n",
    "headers = {'Content-Type':'application/json', 'Authorization':('Bearer '+ api_key)}\n",
    "\n",
    "req = urllib.request.Request(url, body, headers)\n",
    "\n",
    "try:\n",
    "    response = urllib.request.urlopen(req)\n",
    "\n",
    "    result = response.read()\n",
    "    print(result)\n",
    "except urllib.error.HTTPError as error:\n",
    "    print(\"The request failed with status code: \" + str(error.code))\n",
    "\n",
    "    # Print the headers - they include the requert ID and the timestamp, which are useful for debugging the failure\n",
    "    print(error.info())\n",
    "    print(json.loads(error.read().decode(\"utf8\", 'ignore')))"
   ]
  },
  {
   "cell_type": "code",
   "execution_count": null,
   "metadata": {},
   "outputs": [],
   "source": []
  }
 ],
 "metadata": {
  "kernelspec": {
   "display_name": "Python 3",
   "language": "python",
   "name": "python3"
  },
  "language_info": {
   "codemirror_mode": {
    "name": "ipython",
    "version": 3
   },
   "file_extension": ".py",
   "mimetype": "text/x-python",
   "name": "python",
   "nbconvert_exporter": "python",
   "pygments_lexer": "ipython3",
   "version": "3.7.1"
  }
 },
 "nbformat": 4,
 "nbformat_minor": 2
}
